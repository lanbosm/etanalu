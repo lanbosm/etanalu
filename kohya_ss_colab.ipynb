# @title 🚀 Train with Kohya's Stable Diffusion Trainers (Optimized for Colab)
# 基于 Kohya LoRA 工具的 Colab 安装 + 启动脚本（稳定、轻量、无编译）

# 切换目录
%cd /content

# 挂载 Google Drive（建议把模型和输出都放 Drive）
from google.colab import drive
drive.mount('/content/drive')

# 安装 PyTorch（cu117 对应 A100/T4 最通用）
!pip install --upgrade --quiet torch==1.13.1+cu117 torchvision==0.14.1+cu117 -f https://download.pytorch.org/whl/torch_stable.html

# 安装 Stable Diffusion 训练核心依赖
!pip install --quiet dadaptation==3.1 diffusers[torch]==0.17.1 einops==0.6.0 fairscale==0.4.13 \
ftfy==6.1.1 huggingface-hub==0.14.1 lion-pytorch==0.0.6 lycoris_lora==1.8.0.dev6 \
open-clip-torch==2.20.0 prodigyopt==1.0 pytorch-lightning==1.9.0 safetensors==0.3.1 \
timm==0.6.12 transformers==4.30.2 voluptuous==0.13.1 wandb==0.15.0 omegaconf

# ✅ 安装 bitsandbytes（预编译版，无需手动编译）
!pip install --quiet bitsandbytes==0.41.1

# ✅ 安装 xformers（预编译版，适配 A100 / T4 / V100）
!pip install --quiet xformers==0.0.20 -f https://huggingface.co/pythainlp/xformers_prebuilt/resolve/main/index.html

# ❌ 删除 GUI 相关依赖（避免冲突）：
# easygui, gradio, tk -> 会与 Colab 的 X server 冲突，用不到就别装了

# 克隆 kohya_ss
%cd /content
!git clone -b v1.0 https://github.com/camenduru/kohya_ss
%cd /content/kohya_ss

# 启动 GUI 模式（Headless + Gradio 分享链接）
!python kohya_gui.py --share --headless
